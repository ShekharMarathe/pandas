{
 "cells": [
  {
   "cell_type": "code",
   "execution_count": 2,
   "id": "78432699",
   "metadata": {},
   "outputs": [
    {
     "name": "stdout",
     "output_type": "stream",
     "text": [
      "hi shekhar\n"
     ]
    }
   ],
   "source": [
    "fp=open(\"C:\\\\Users\\\\marat\\\\OneDrive\\\\Desktop\\\\pythan\\\\marathe.txt\",\"r\")\n",
    "print(fp.read())\n",
    "fp.close()"
   ]
  },
  {
   "cell_type": "code",
   "execution_count": 3,
   "id": "5b3af3de",
   "metadata": {},
   "outputs": [
    {
     "name": "stdout",
     "output_type": "stream",
     "text": [
      "done\n"
     ]
    }
   ],
   "source": [
    "text= \"this is shekhar\"\n",
    "fp=open(\"marathe.txt\",\"w\")\n",
    "fp.write(text)\n",
    "print(\"done\")\n",
    "fp.close()"
   ]
  },
  {
   "cell_type": "code",
   "execution_count": 7,
   "id": "4d9f76b4",
   "metadata": {
    "scrolled": true
   },
   "outputs": [
    {
     "name": "stdout",
     "output_type": "stream",
     "text": [
      "done\n"
     ]
    }
   ],
   "source": [
    "\n",
    "fp=open(\"marathe.txt\",\"a\")\n",
    "fp.write(\"and we are going to start python\")\n",
    "print(\"done\")\n",
    "fp.close()"
   ]
  },
  {
   "cell_type": "code",
   "execution_count": 9,
   "id": "6f6f1276",
   "metadata": {},
   "outputs": [
    {
     "name": "stdout",
     "output_type": "stream",
     "text": [
      "am shekhar marathe i am good today\n"
     ]
    }
   ],
   "source": [
    "fp=open(\"text2.txt\",\"r\")\n",
    "fp.seek(5)\n",
    "print(fp.read())\n",
    "fp.close()"
   ]
  },
  {
   "cell_type": "code",
   "execution_count": 10,
   "id": "39bfebad",
   "metadata": {},
   "outputs": [
    {
     "name": "stdout",
     "output_type": "stream",
     "text": [
      "hi i am shekhar marathe i am good today\n"
     ]
    }
   ],
   "source": [
    "fp=open(\"text2.txt\",\"r\")\n",
    "fp.seek(0)\n",
    "print(fp.read())\n",
    "fp.close()"
   ]
  },
  {
   "cell_type": "code",
   "execution_count": 14,
   "id": "0dae98bc",
   "metadata": {},
   "outputs": [
    {
     "name": "stdout",
     "output_type": "stream",
     "text": [
      "['hi i am shekhar marathe .i am good today\\n', 'we are learning python today']\n"
     ]
    }
   ],
   "source": [
    "fp=open(\"text2.txt\",\"r\")\n",
    "fp.seek(0)\n",
    "print(fp.readlines())\n",
    "fp.close()"
   ]
  },
  {
   "cell_type": "code",
   "execution_count": 31,
   "id": "32251243",
   "metadata": {},
   "outputs": [],
   "source": [
    "#writing to a file\n",
    "persion=[\"Name:shekhar\",\"\\nAddress:sambhaji nagar\",\"\\ncity:chalisgoan\"]\n",
    "fp=open(\"text3.txt\",\"w\")\n",
    "fp.writelines(persion)\n",
    "fp.close()"
   ]
  },
  {
   "cell_type": "code",
   "execution_count": 27,
   "id": "8aa617e1",
   "metadata": {},
   "outputs": [
    {
     "name": "stdout",
     "output_type": "stream",
     "text": [
      "\n",
      "john\n",
      "Address:sambhaji nagar\n",
      "city:chalisgoan\n"
     ]
    }
   ],
   "source": [
    "name=\"\\njohn\"\n",
    "address=[\"\\nAddress:sambhaji nagar\",\"\\ncity:chalisgoan\"]\n",
    "fp=open(\"text2.txt\",\"w\")\n",
    "fp.write(name)\n",
    "fp.writelines(address)\n",
    "\n",
    "with open (\"text2.txt\",\"r\")as fp:\n",
    "    print(fp.read())"
   ]
  },
  {
   "cell_type": "code",
   "execution_count": 4,
   "id": "c00c6f71",
   "metadata": {},
   "outputs": [],
   "source": [
    "import os\n",
    "old_name=\"marathe.txt\"\n",
    "new_name=\"t1.text\"\n",
    "os.rename(old_name,new_name)"
   ]
  },
  {
   "cell_type": "code",
   "execution_count": null,
   "id": "6bded48f",
   "metadata": {},
   "outputs": [],
   "source": []
  },
  {
   "cell_type": "code",
   "execution_count": null,
   "id": "09188c9c",
   "metadata": {},
   "outputs": [],
   "source": []
  },
  {
   "cell_type": "code",
   "execution_count": null,
   "id": "e8a6e088",
   "metadata": {},
   "outputs": [],
   "source": []
  }
 ],
 "metadata": {
  "kernelspec": {
   "display_name": "Python 3 (ipykernel)",
   "language": "python",
   "name": "python3"
  },
  "language_info": {
   "codemirror_mode": {
    "name": "ipython",
    "version": 3
   },
   "file_extension": ".py",
   "mimetype": "text/x-python",
   "name": "python",
   "nbconvert_exporter": "python",
   "pygments_lexer": "ipython3",
   "version": "3.11.5"
  }
 },
 "nbformat": 4,
 "nbformat_minor": 5
}
